{
 "cells": [
  {
   "cell_type": "markdown",
   "metadata": {},
   "source": [
    "You develop a Python application for your school.\n",
    "You need to read and write data to a text file. If the file does not exist, it must be created. If the file has content, the content must be removed.\n",
    "Which code should you use?\n",
    "\n",
    "Note: use w+\n"
   ]
  },
  {
   "cell_type": "markdown",
   "metadata": {},
   "source": [
    "This question requires that you evaluate the underlined text to determine if it is correct"
   ]
  },
  {
   "cell_type": "code",
   "execution_count": 4,
   "metadata": {},
   "outputs": [
    {
     "name": "stdout",
     "output_type": "stream",
     "text": [
      "the file named:  3mtasamplefile.txt  not found\n"
     ]
    }
   ],
   "source": [
    "try:\n",
    "   # set_trace()\n",
    "   file_in = open(\"3mtasamplefile.txt\",'r+')\n",
    "   file_out = open(\"out.txt\",'a')\n",
    "except FileNotFoundError as not_found:\n",
    "    print(\"the file named: \",not_found.filename,\" not found\")\n",
    "else:\n",
    "    i = 1\n",
    "    for line in file_in:\n",
    "        print(line.rstrip())\n",
    "        print(line)\n",
    "        file_out.write(\"line \"+ str(i) + \":\"+line)\n",
    "        i = i + 1\n",
    "    print(\"after for loop\")\n",
    "    file_in.close()\n",
    "    file_out.close()\n"
   ]
  },
  {
   "cell_type": "code",
   "execution_count": 1,
   "metadata": {},
   "outputs": [
    {
     "data": {
      "text/plain": [
       "float"
      ]
     },
     "execution_count": 1,
     "metadata": {},
     "output_type": "execute_result"
    }
   ],
   "source": [
    "type(+1E10)"
   ]
  },
  {
   "cell_type": "code",
   "execution_count": 2,
   "metadata": {},
   "outputs": [
    {
     "data": {
      "text/plain": [
       "10000000000.0"
      ]
     },
     "execution_count": 2,
     "metadata": {},
     "output_type": "execute_result"
    }
   ],
   "source": [
    "1E10"
   ]
  },
  {
   "cell_type": "code",
   "execution_count": 3,
   "metadata": {},
   "outputs": [
    {
     "data": {
      "text/plain": [
       "float"
      ]
     },
     "execution_count": 3,
     "metadata": {},
     "output_type": "execute_result"
    }
   ],
   "source": [
    "type(5.0)"
   ]
  },
  {
   "cell_type": "code",
   "execution_count": 6,
   "metadata": {},
   "outputs": [
    {
     "data": {
      "text/plain": [
       "bool"
      ]
     },
     "execution_count": 6,
     "metadata": {},
     "output_type": "execute_result"
    }
   ],
   "source": [
    "type(False)"
   ]
  },
  {
   "cell_type": "markdown",
   "metadata": {},
   "source": [
    "QUESTION 3\n",
    "HOTSPOT\n",
    "The ABC company needs a way to find the count of particular letters in their publications to ensure that there is a good balance. It seems that there have been\n",
    "complaints about overuse of the letter e. You need to create a function to meet the requirements.\n",
    "How should you complete this code? To answer, select the appropriate code segments in the answer area.\n"
   ]
  },
  {
   "cell_type": "code",
   "execution_count": 8,
   "metadata": {},
   "outputs": [
    {
     "name": "stdout",
     "output_type": "stream",
     "text": [
      "Which letter would you like to count?r\n",
      "There are: 3683 instances of letter rr\n"
     ]
    }
   ],
   "source": [
    "# Function accept list of words from a file and \n",
    "# letter to search for.\n",
    "# Returns count of a particular letter in that list.\n",
    "\n",
    "def count_letter(letter, word_list):\n",
    "    count = 0\n",
    "    for word in word_list:\n",
    "        if letter in word:\n",
    "            count +=1\n",
    "    return count\n",
    "\n",
    "    \n",
    "# word_list is populated from a file. code not shown here\n",
    "try:\n",
    "    fileHander = open(\"xyz.csv\",\"r+\")\n",
    "        \n",
    "except FileNotFoundError as not_found:\n",
    "    print(\"the file named: \",not_found.filename,\" not found\")\n",
    "else:\n",
    "    word_list = []\n",
    "    for line in fileHander:\n",
    "        for words in line:\n",
    "            word_list.append(words)\n",
    "letter = input(\"Which letter would you like to count?\")\n",
    "letter_count = count_letter(letter, word_list)\n",
    "print(\"There are:\",letter_count,\"instances of letter r\"+letter)\n",
    "   "
   ]
  },
  {
   "cell_type": "code",
   "execution_count": null,
   "metadata": {},
   "outputs": [],
   "source": []
  },
  {
   "cell_type": "code",
   "execution_count": 1,
   "metadata": {},
   "outputs": [
    {
     "name": "stdout",
     "output_type": "stream",
     "text": [
      "z = 5\n",
      "n =13\n"
     ]
    }
   ],
   "source": [
    "#from IPython.core.debugger import set_trace\n",
    "\n",
    "def transform(x,y):\n",
    "    y = y**2\n",
    "    x *=2\n",
    "    z = x+y\n",
    "    return z\n",
    "\n",
    "\n",
    "\n",
    "x = 50\n",
    "y = 60\n",
    "z = 5\n",
    "n = 1000\n",
    "#set_trace()\n",
    "transform(5,10)\n",
    "\n",
    "print('z = '+ str(z))\n",
    "n = transform(2,3)\n",
    "print('n ='+ str(n))"
   ]
  },
  {
   "cell_type": "code",
   "execution_count": 2,
   "metadata": {},
   "outputs": [
    {
     "name": "stdout",
     "output_type": "stream",
     "text": [
      "hello\n"
     ]
    }
   ],
   "source": [
    "print(\"hello\")"
   ]
  },
  {
   "cell_type": "markdown",
   "metadata": {},
   "source": [
    "# '''QUESTION 3 HOTSPOT The ABC company needs a way to find the count of particular letters\n",
    "in their publications to ensure that there is a good balance. It seems that there\n",
    "have been complaints about overuse of the letter e. You need to create a function\n",
    "to meet the requirements. How should you complete this code?\n",
    "To answer, select the appropriate code segments in the answer area.\n",
    "'''"
   ]
  },
  {
   "cell_type": "code",
   "execution_count": 7,
   "metadata": {},
   "outputs": [
    {
     "name": "stdout",
     "output_type": "stream",
     "text": [
      "Which letter would you like to count?a\n",
      "There are: 1 instances of letter a\n"
     ]
    }
   ],
   "source": [
    "\n",
    "# Function accept list of words from a file and\n",
    "# letter to search for.\n",
    "# Returns count of a particular letter in that list.\n",
    "\n",
    "def count_letter(letter, word_list):\n",
    "    count = 0\n",
    "    for word in word_list:\n",
    "        if letter in word:\n",
    "            count +=1\n",
    "    return count\n",
    "\n",
    "# word_list is populated from a file\n",
    "try:\n",
    "    fileHander = open(\"out.txt\",\"r+\")\n",
    "\n",
    "except FileNotFoundError as not_found:\n",
    "    print(\"the file named: \",not_found.filename,\" not found\")\n",
    "else:\n",
    "    word_list = []\n",
    "    for line in fileHander:\n",
    "        for words in line.split():\n",
    "            word_list.append(words)\n",
    "letter = input(\"Which letter would you like to count?\")\n",
    "letter_count = count_letter(letter, word_list)\n",
    "print(\"There are:\",letter_count,\"instances of letter \"+letter)\n"
   ]
  },
  {
   "cell_type": "markdown",
   "metadata": {},
   "source": [
    "''''The ABC Video company needs a way to determine the cost that a customer will\n",
    " pay for renting a DVD. The cost is dependent on the time of day the DVD is\n",
    "returned. However, there are also special rates on Thursdays and Sundays.\n",
    " The fee structure is shown in the following list:\n",
    "The cost is $1.59 per night.\n",
    "If the DVD is returned after 8 PM, the customer will be charged an extra day.\n",
    "If the video is rented on a Sunday, the customer gets 30% off for as long as they\n",
    "keep the video.\n",
    "If the video is rented on a Thursday, the customer gets 50% off for as long\n",
    "as they keep the video.\n",
    "You need to write code to meet the requirements.\n",
    "How should you complete the code? To answer, select the appropriate code\n",
    " segments in the answer area'''' "
   ]
  },
  {
   "cell_type": "code",
   "execution_count": 9,
   "metadata": {},
   "outputs": [
    {
     "data": {
      "text/plain": [
       "14"
      ]
     },
     "execution_count": 9,
     "metadata": {},
     "output_type": "execute_result"
    }
   ],
   "source": [
    "16 - 2 * 5 // 3 + 1"
   ]
  },
  {
   "cell_type": "code",
   "execution_count": null,
   "metadata": {},
   "outputs": [],
   "source": []
  }
 ],
 "metadata": {
  "kernelspec": {
   "display_name": "Python 3",
   "language": "python",
   "name": "python3"
  },
  "language_info": {
   "codemirror_mode": {
    "name": "ipython",
    "version": 3
   },
   "file_extension": ".py",
   "mimetype": "text/x-python",
   "name": "python",
   "nbconvert_exporter": "python",
   "pygments_lexer": "ipython3",
   "version": "3.7.6"
  }
 },
 "nbformat": 4,
 "nbformat_minor": 4
}
