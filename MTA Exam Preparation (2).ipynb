{
 "cells": [
  {
   "cell_type": "markdown",
   "metadata": {},
   "source": [
    "#    Exception"
   ]
  },
  {
   "cell_type": "code",
   "execution_count": 1,
   "metadata": {},
   "outputs": [
    {
     "name": "stdout",
     "output_type": "stream",
     "text": [
      "Sorry something wrong has occured.../n\n",
      "unsupported operand type(s) for +: 'int' and 'str'\n"
     ]
    }
   ],
   "source": [
    "try:\n",
    "    salary = 5000\n",
    "    bonus = \"200\"\n",
    "    payCheck = salary + bonus\n",
    "    print(payCheck)\n",
    "except Exception as e:\n",
    "    print(\"Sorry something wrong has occured.../n\")\n",
    "    print(e)"
   ]
  },
  {
   "cell_type": "code",
   "execution_count": 2,
   "metadata": {},
   "outputs": [
    {
     "ename": "TypeError",
     "evalue": "unsupported operand type(s) for +: 'int' and 'str'",
     "output_type": "error",
     "traceback": [
      "\u001b[1;31m---------------------------------------------------------------------------\u001b[0m",
      "\u001b[1;31mTypeError\u001b[0m                                 Traceback (most recent call last)",
      "\u001b[1;32m<ipython-input-2-521682aadff3>\u001b[0m in \u001b[0;36m<module>\u001b[1;34m\u001b[0m\n\u001b[0;32m      1\u001b[0m \u001b[0msalary\u001b[0m \u001b[1;33m=\u001b[0m \u001b[1;36m5000\u001b[0m\u001b[1;33m\u001b[0m\u001b[1;33m\u001b[0m\u001b[0m\n\u001b[0;32m      2\u001b[0m \u001b[0mbonus\u001b[0m \u001b[1;33m=\u001b[0m \u001b[1;34m\"200\"\u001b[0m\u001b[1;33m\u001b[0m\u001b[1;33m\u001b[0m\u001b[0m\n\u001b[1;32m----> 3\u001b[1;33m \u001b[0mpayCheck\u001b[0m \u001b[1;33m=\u001b[0m \u001b[0msalary\u001b[0m \u001b[1;33m+\u001b[0m \u001b[0mbonus\u001b[0m\u001b[1;33m\u001b[0m\u001b[1;33m\u001b[0m\u001b[0m\n\u001b[0m\u001b[0;32m      4\u001b[0m \u001b[0mprint\u001b[0m\u001b[1;33m(\u001b[0m\u001b[0mpayCheck\u001b[0m\u001b[1;33m)\u001b[0m\u001b[1;33m\u001b[0m\u001b[1;33m\u001b[0m\u001b[0m\n\u001b[0;32m      5\u001b[0m \u001b[1;33m\u001b[0m\u001b[0m\n",
      "\u001b[1;31mTypeError\u001b[0m: unsupported operand type(s) for +: 'int' and 'str'"
     ]
    }
   ],
   "source": [
    "salary = 5000\n",
    "bonus = \"200\"\n",
    "payCheck = salary + bonus\n",
    "print(payCheck)\n",
    "    "
   ]
  },
  {
   "cell_type": "code",
   "execution_count": null,
   "metadata": {},
   "outputs": [],
   "source": [
    "import sys\n",
    "try:\n",
    "    salary = 5000\n",
    "    bonus = \"200\"\n",
    "    payCheck = salary + bonus\n",
    "    print(payCheck)\n",
    "except:\n",
    "    print(\"I am sorry something went wrong....\")\n",
    "    \n",
    "    print(sys.exc_info())\n",
    "    \n",
    "    print(\"Check this..\")\n",
    "    \n",
    "    print(print(sys.exc_info()[0]))"
   ]
  },
  {
   "cell_type": "code",
   "execution_count": null,
   "metadata": {},
   "outputs": [],
   "source": [
    "first = input(\"Enter first number ....\")\n",
    "second = input(\"Enter second number...\")\n",
    "try:\n",
    "   \n",
    "    result = float(first) / float(second)\n",
    "    print(result)\n",
    "except ZeroDivisionError:\n",
    "    print(\"The answer is infinity\")"
   ]
  },
  {
   "cell_type": "markdown",
   "metadata": {},
   "source": [
    "Ideally you should handle one or more specific errors and then have a generic error handler as well\n",
    "sys.exc_infor()"
   ]
  },
  {
   "cell_type": "code",
   "execution_count": null,
   "metadata": {},
   "outputs": [],
   "source": [
    "import sys\n",
    "first = input(\"Enter first number ....\")\n",
    "second = input(\"Enter second number...\")\n",
    "try:\n",
    "   \n",
    "    result = float(first) / float(second)\n",
    "    print(result)\n",
    "except ZeroDivisionError:\n",
    "    print(\"The answer is infinity\")\n",
    "except:\n",
    "    error = sys.exc_info()[0]\n",
    "    print(\"I am sorry, something went wrong...\")\n",
    "    print(error)\n",
    "    "
   ]
  },
  {
   "cell_type": "markdown",
   "metadata": {},
   "source": [
    "How can I force my program to exit if an error occurs and I don’t want to continue?\n",
    "You can use the function sys.exit()\n"
   ]
  },
  {
   "cell_type": "code",
   "execution_count": null,
   "metadata": {},
   "outputs": [],
   "source": [
    "#???????????????????????????????????????????????????????????????? ???? ????? Check this\n",
    "import sys\n",
    "first = float(input(\"Enter first number ....\"))\n",
    "second = float(input(\"Enter second number...\"))\n",
    "try:\n",
    "    result = float(first) / float(second)\n",
    "    print(result)\n",
    "except ZeroDivisionError:\n",
    "    print(\"The answer is infinity\")\n",
    "    sys.exit()\n",
    "print(\"this message should be shown but as we use sys.exit so it will not be shown..\")\n",
    "    "
   ]
  },
  {
   "cell_type": "markdown",
   "metadata": {},
   "source": [
    "You can also use variables and an if statement to control what happens after an error\n",
    "if not errorFlag:"
   ]
  },
  {
   "cell_type": "code",
   "execution_count": null,
   "metadata": {},
   "outputs": [],
   "source": [
    "import sys\n",
    "first = float(input(\"Enter first number ....\"))\n",
    "second = float(input(\"Enter second number...\"))\n",
    "try:\n",
    "    result = float(first) / float(second)\n",
    "    print(result)\n",
    "except ZeroDivisionError:\n",
    "    print(\"The answer is infinity\")\n",
    "    try:\n",
    "        sys.exit()\n",
    "    except:\n",
    "        print(\"sys.exit() error\")\n",
    "if not ZeroDivisionError:\n",
    "    print(\"this message should be shown but as we use sys.exit so it will not be shown..\")"
   ]
  },
  {
   "cell_type": "markdown",
   "metadata": {},
   "source": [
    "Challenge:\n",
    "\n",
    "Write code to open and read a file\n",
    "Allow the user to specify the file name\n",
    "Add error handling to provide a suitable error message if the file specified by the user could not be found."
   ]
  },
  {
   "cell_type": "code",
   "execution_count": null,
   "metadata": {},
   "outputs": [],
   "source": [
    "with open(\"filename.txt\",\"w\") as file:\n",
    "    file.write(\"this is my test file\")\n",
    "    \n",
    "with open(\"filename.txt\",\"r\") as file1:\n",
    "    content_of_file = file1.read()\n",
    "    print(content_of_file)\n",
    "    \n",
    "with open(\"filename.txt\",\"a\") as filehand2:\n",
    "    filehand2.write(\"this is next appended content\")\n",
    "   # filehand2.seek(0)\n",
    "\n",
    "with open(\"filename.txt\",\"r\") as fileread:\n",
    "    content2 = fileread.read()\n",
    "    print(content2)"
   ]
  },
  {
   "cell_type": "code",
   "execution_count": 75,
   "metadata": {},
   "outputs": [
    {
     "name": "stdout",
     "output_type": "stream",
     "text": [
      "Sorry this file does not exist..\n"
     ]
    }
   ],
   "source": [
    "try:\n",
    "    with open(\"filename2.txt\",\"r\") as fileread:\n",
    "        content2 = fileread.read()\n",
    "        print(content2)\n",
    "except FileNotFoundError:\n",
    "    print(\"Sorry this file does not exist..\")"
   ]
  },
  {
   "cell_type": "markdown",
   "metadata": {},
   "source": [
    "# File Creation"
   ]
  },
  {
   "cell_type": "code",
   "execution_count": null,
   "metadata": {},
   "outputs": [],
   "source": [
    "'''FileName = input(\"Please Enter file Name\")\n",
    "AccessMode = input(\"Enter r / r+ / w / w+ / a / b where b = open binary file, a= append in file\")\n",
    "print(\"r is to readfile and r+ mode allows read and write both in files, but in this case it is necessary that file should already exist\")\n",
    "print(\"\\n w is to write mode, w+ mode allow read write both in file, if file do not exist then it will first create file first.\")\n",
    "print(\"keyword with will close file once completed read/ write from it.\")\n",
    "'''\n",
    "FileName = \"MyFile\"\n",
    "AccessMode = \"w+\"\n",
    "\n",
    "if(AccessMode == \"w+\"):\n",
    "    with open(FileName, AccessMode) as HandleThisFile:\n",
    "        HandleThisFile.write(\"This is MyFile\")\n",
    "        HandleThisFile.seek(0)\n",
    "        print(HandleThisFile.read())\n",
    "elif(AccessMode == \"r\"):\n",
    "    with open(FileName, AccessMode) as readThisFileHandler:\n",
    "        content_of_file = readThisFileHandler.read()\n",
    "   \n",
    "    print(content_of_file)\n",
    "    "
   ]
  },
  {
   "cell_type": "markdown",
   "metadata": {},
   "source": [
    "CSV file"
   ]
  },
  {
   "cell_type": "code",
   "execution_count": null,
   "metadata": {},
   "outputs": [],
   "source": [
    "import csv\n",
    "\n",
    "FileName = \"CSVFile.csv\"\n",
    "AccessMode = \"r+\"\n",
    "\n",
    "# Write CSV File\n",
    "with open(FileName, AccessMode, newline = \"\") as f:\n",
    "    # Note csv.write for writing csv data\n",
    "    data_handler = csv.writer(f, delimiter=\",\")\n",
    " \n",
    "    #Notedown the method writerow\n",
    "    data_handler.writerow([\"Name\",\"Age\"])\n",
    "    # data is inserted in the form of list\n",
    "    data_handler.writerow([\"Shah2\",\"29\"])\n",
    "    data_handler.writerow([\"Shah3\",\"3\"])\n",
    "# Read CSV file\n",
    "if(AccessMode == \"r+\"):\n",
    "    with open(FileName, AccessMode) as HandleThisCSVFile:\n",
    "        #Note: use reader to read the CSV file\n",
    "        content = csv.reader(HandleThisCSVFile)\n",
    "        storeDatainList = []\n",
    "     \n",
    "        for each_line in content:\n",
    "            #storeDatainList += each_line\n",
    "            storeDatainList += each_line\n",
    "        print(storeDatainList)\n",
    "        print(\"\\n\")\n",
    "        "
   ]
  },
  {
   "cell_type": "markdown",
   "metadata": {},
   "source": [
    "JSON File"
   ]
  },
  {
   "cell_type": "code",
   "execution_count": null,
   "metadata": {},
   "outputs": [],
   "source": [
    "import json\n",
    "\n",
    "myList = []\n",
    "alphabet_letters = [\"a\",\"b\",\"c\"]\n",
    "dictionary_letters = {\"one\":1,\"two\":2,\"three\":3}\n",
    "\n",
    "with open(\"alphabetlist.json\",\"w\") as f:\n",
    "    # writing python in JSON file\n",
    "    \n",
    "    #note dump keyword\n",
    "    json.dump(alphabet_letters,f)\n",
    "\n",
    "with open(\"alphabetlist.json\",\"w+\") as fd:\n",
    "    json.dump(dictionary_letters,fd)\n",
    "        \n",
    "with open(\"alphabetlist.json\",\"r\") as f2:\n",
    "    \n",
    "    #Note the load keyword\n",
    "    studentDict = json.load(f2)\n",
    "    print(studentDict)\n"
   ]
  },
  {
   "cell_type": "markdown",
   "metadata": {},
   "source": [
    "# Functions"
   ]
  },
  {
   "cell_type": "code",
   "execution_count": null,
   "metadata": {},
   "outputs": [],
   "source": [
    "def printMessage():\n",
    "    print(\"this is function message\")\n",
    "\n",
    "call = printMessage()\n",
    "print(call)"
   ]
  },
  {
   "cell_type": "markdown",
   "metadata": {},
   "source": [
    "function with parameters"
   ]
  },
  {
   "cell_type": "code",
   "execution_count": null,
   "metadata": {},
   "outputs": [],
   "source": [
    "def printMessage(message):\n",
    "    print(message)\n",
    "    return\n",
    "\n",
    "#call the function\n",
    "call = printMessage(\"I send these as parameters\")\n",
    "print(call)"
   ]
  },
  {
   "cell_type": "markdown",
   "metadata": {},
   "source": [
    "Create a function to simplify writing to files.\n",
    "Set the function to accept parameters\n",
    "one for text\n",
    "one for the name of a file\n",
    "Add the code that will write the text out to the file.\n"
   ]
  },
  {
   "cell_type": "code",
   "execution_count": null,
   "metadata": {},
   "outputs": [],
   "source": [
    "def writeFile(text,fileName):\n",
    "    with open(fileName,\"w+\") as f:\n",
    "        f.write(text)\n",
    "        f.seek(0)\n",
    "        print(f.read())\n",
    "        \n",
    "writeFile(\"This is test string\",\"123Test\")"
   ]
  },
  {
   "cell_type": "markdown",
   "metadata": {},
   "source": [
    "Create CSV file in python funtion\n",
    "\n",
    "csv.writer class is used to insert data to the CSV file. This class returns a writer object which is responsible for converting the user’s data into a delimited string.\n",
    "\n",
    "A csvfile object should be opened with newline='' otherwise newline characters inside the quoted fields will not be interpreted correctly.\n",
    "\n",
    "writerow(): This method writes a single row at a time. Field row can be written using this method.\n",
    "\n",
    "writerows(): This method is used to write multiple rows at a time. This can be used to write rows list.\n",
    "writerows(rows)"
   ]
  },
  {
   "cell_type": "code",
   "execution_count": null,
   "metadata": {},
   "outputs": [],
   "source": [
    "import csv\n",
    "def writeCSVFile(text,fileName):\n",
    "    with open(fileName, \"w\", newline=\"\") as f:\n",
    "       data_handler = csv.writer(f)\n",
    "       data_handler.writerow(text)\n",
    "    \n",
    "    \n",
    "    with open(fileName,\"r\") as f2:\n",
    "        for data in f2:\n",
    "           print(data)\n",
    " \n",
    "    \n",
    "writeCSVFile([\"this is first line\"],\"CSVfile.csv\")\n",
    "        "
   ]
  },
  {
   "cell_type": "code",
   "execution_count": null,
   "metadata": {},
   "outputs": [],
   "source": [
    "import csv\n",
    "with open(\"xyz.csv\",\"w\", newline=\"\") as file:\n",
    "    fileWriter = csv.writer(file)\n",
    "    fileWriter.writerow([\"This is my first line\",\"\\n\"\n",
    "                        \"This is my second line\", \"\\n\"\n",
    "                        \"ABCDEFGHIJKLMNOPQRSTUVWXYZ\"])\n",
    "with open(\"xyz.csv\") as file:\n",
    "    contents = csv.reader(file)\n",
    "    for content in contents:\n",
    "        print(content)"
   ]
  },
  {
   "cell_type": "code",
   "execution_count": null,
   "metadata": {},
   "outputs": [],
   "source": [
    "import csv  \n",
    "    \n",
    "# field names  \n",
    "fields = ['Name', 'Branch', 'Year', 'CGPA']  \n",
    "    \n",
    "# data rows of csv file  \n",
    "rows = [ ['Nikhil', 'COE', '2', '9.0'],  \n",
    "         ['Sanchit', 'COE', '2', '9.1'],  \n",
    "         ['Aditya', 'IT', '2', '9.3'],  \n",
    "         ['Sagar', 'SE', '1', '9.5'],  \n",
    "         ['Prateek', 'MCE', '3', '7.8'],  \n",
    "         ['Sahil', 'EP', '2', '9.1']]  \n",
    "    \n",
    "# name of csv file  \n",
    "filename = \"university_records.csv\"\n",
    "    \n",
    "# writing to csv file  \n",
    "with open(filename, 'w') as csvfile:  \n",
    "    # creating a csv writer object  \n",
    "    csvwriter = csv.writer(csvfile)  \n",
    "        \n",
    "    # writing the fields  \n",
    "    csvwriter.writerow(fields)  \n",
    "        \n",
    "    # writing the data rows  \n",
    "    csvwriter.writerows(rows) \n",
    "    \n",
    "with open(filename,\"r\") as fhandle:\n",
    "    for line in fhandle:\n",
    "        print(line)"
   ]
  },
  {
   "cell_type": "markdown",
   "metadata": {},
   "source": [
    "Counting lines in a file:"
   ]
  },
  {
   "cell_type": "code",
   "execution_count": null,
   "metadata": {},
   "outputs": [],
   "source": [
    "with open(\"CSVfile.csv\") as fHandler:\n",
    "    count = 0\n",
    "    for line in fHandler:\n",
    "        count = count+1\n",
    "    print(\"line count : \",count)"
   ]
  },
  {
   "cell_type": "markdown",
   "metadata": {},
   "source": [
    "Reading the whole file:\n",
    "    "
   ]
  },
  {
   "cell_type": "code",
   "execution_count": null,
   "metadata": {},
   "outputs": [],
   "source": [
    "with open(\"CSVfile.csv\") as fHandler:\n",
    "    inp = fHandler.read()\n",
    "   # print(len(inp))\n",
    "    print(inp[:20])"
   ]
  },
  {
   "cell_type": "markdown",
   "metadata": {},
   "source": [
    "Searching through a File:"
   ]
  },
  {
   "cell_type": "code",
   "execution_count": null,
   "metadata": {},
   "outputs": [],
   "source": [
    "with open(\"CSVfile.csv\") as fHandler:\n",
    "    for line in fHandler:\n",
    "        if line.startswith(\"this\"):\n",
    "            print(line)"
   ]
  },
  {
   "cell_type": "markdown",
   "metadata": {},
   "source": [
    "print() function adds a new line after reading each line from file, so to deal with this scenario wil will use rstrip() function.\n",
    "\n",
    "we can strip the white space from the right hand side of the string using rstrip() from the string library.\n",
    "the newline is considered \"white space and is stripped\"."
   ]
  },
  {
   "cell_type": "code",
   "execution_count": null,
   "metadata": {},
   "outputs": [],
   "source": [
    "with open(\"CSVfile.csv\",\"r\") as fHandler:\n",
    "    for line in fHandler:\n",
    "        \n",
    "        # check rstrip() method\n",
    "        \n",
    "        line = line.rstrip()\n",
    "        if line.startswith(\"this\"):\n",
    "            print(line)"
   ]
  },
  {
   "cell_type": "markdown",
   "metadata": {},
   "source": [
    "skipping with continue:\n",
    "we can conventionally skip a line by using the continue statement.\n",
    "it will do the same as the above code, but it will skip the next lines and will be back to for loop."
   ]
  },
  {
   "cell_type": "code",
   "execution_count": null,
   "metadata": {},
   "outputs": [],
   "source": [
    "with open(\"CSVfile.csv\",\"r\") as fHandler:\n",
    "    for line in fHandler:\n",
    "        line = line.rstrip()\n",
    "        if not line.startswith(\"this\"):\n",
    "            continue\n",
    "        print(line)"
   ]
  },
  {
   "cell_type": "markdown",
   "metadata": {},
   "source": [
    "# Using \"in\" to Select lines:\n",
    "    we can look or a string anywhere in a line as our selection criteria."
   ]
  },
  {
   "cell_type": "code",
   "execution_count": null,
   "metadata": {},
   "outputs": [],
   "source": [
    "with open(\"CSVfile.csv\",\"r\") as fileHandler:\n",
    "    for lines in fileHandler:\n",
    "        line = lines.rstrip()\n",
    "        if not 'second' in line:\n",
    "            continue\n",
    "        print(line)"
   ]
  },
  {
   "cell_type": "code",
   "execution_count": 1,
   "metadata": {},
   "outputs": [
    {
     "name": "stdout",
     "output_type": "stream",
     "text": [
      "Enter the file nameCSVfile.csv\n",
      "there are  4 lines which starts with this word in ,  CSVfile.csv\n"
     ]
    }
   ],
   "source": [
    "fname = input(\"Enter the file name\")\n",
    "\n",
    "try:\n",
    "    fhand = open(fname,\"r\")\n",
    "    count = 0\n",
    "    for line in fhand:\n",
    "        if line.startswith(\"this\"):\n",
    "            count = count+1\n",
    "    print(\"there are \",count,\"lines which starts with this word in , \", fname)\n",
    "    \n",
    "except:\n",
    "    print(\"file cannot be opened. \",fname)\n",
    "    quit()\n"
   ]
  },
  {
   "cell_type": "code",
   "execution_count": 7,
   "metadata": {},
   "outputs": [
    {
     "name": "stdout",
     "output_type": "stream",
     "text": [
      "Enter file name: CSVfile.csv\n",
      "WRITING PROGRAMS OR PROGRAMMING IS A VERY CREATIVE\n",
      "AND REWARDING ACTIVITY  YOU CAN WRITE PROGRAMS FOR\n",
      "MANY REASONS RANGING FROM MAKING YOUR LIVING TO SOLVING\n",
      "A DIFFICULT DATA ANALYSIS PROBLEM TO HAVING FUN TO HELPING\n",
      "SOMEONE ELSE SOLVE A PROBLEM  THIS BOOK ASSUMES THAT\n",
      "{\\EM EVERYONE} NEEDS TO KNOW HOW TO PROGRAM AND THAT ONCE\n",
      "YOU KNOW HOW TO PROGRAM, YOU WILL FIGURE OUT WHAT YOU WANT\n",
      "TO DO WITH YOUR NEWFOUND SKILLS\n",
      "\n",
      "WE ARE SURROUNDED IN OUR DAILY LIVES WITH COMPUTERS RANGING\n",
      "FROM LAPTOPS TO CELL PHONES  WE CAN THINK OF THESE COMPUTERS\n",
      "AS OUR PERSONAL ASSISTANTS WHO CAN TAKE CARE OF MANY THINGS\n",
      "ON OUR BEHALF  THE HARDWARE IN OUR CURRENT-DAY COMPUTERS\n",
      "IS ESSENTIALLY BUILT TO CONTINUOUSLY ASK US THE QUESTION\n",
      "WHAT WOULD YOU LIKE ME TO DO NEXT\n",
      "\n",
      "THIS OUR COMPUTERS ARE FAST AND HAVE VASTS AMOUNTS OF MEMORY AND\n",
      "COULD BE VERY HELPFUL TO US IF WE ONLY KNEW THE LANGUAGE TO\n",
      "SPEAK TO EXPLAIN TO THE COMPUTER WHAT WE WOULD LIKE IT TO\n",
      "SECOND DO NEXT IF WE KNEW THIS LANGUAGE WE COULD TELL THE\n",
      "COMPUTER TO DO TASKS ON OUR BEHALF THAT WERE REPTITIVE\n",
      "INTERESTINGLY, THE KINDS OF THINGS COMPUTERS CAN DO BEST\n",
      "ARE OFTEN THE KINDS OF THINGS THAT WE HUMANS FIND BORING\n",
      "AND MIND-NUMBING\n",
      "\n",
      "\n",
      "\n",
      "\n"
     ]
    }
   ],
   "source": [
    "# Use words.txt as the file name\n",
    "fname = input(\"Enter file name: \")\n",
    "fh = open(fname)\n",
    "for content in fh:\n",
    "    content = content.rstrip().upper()\n",
    "    print(content)\n",
    "    \n",
    "   "
   ]
  },
  {
   "cell_type": "markdown",
   "metadata": {},
   "source": [
    "What if I want to access an individual value from a row and not just print the whole row?\n"
   ]
  },
  {
   "cell_type": "code",
   "execution_count": 35,
   "metadata": {},
   "outputs": [
    {
     "ename": "SyntaxError",
     "evalue": "invalid character in identifier (<ipython-input-35-efcdf48b0d37>, line 4)",
     "output_type": "error",
     "traceback": [
      "\u001b[1;36m  File \u001b[1;32m\"<ipython-input-35-efcdf48b0d37>\"\u001b[1;36m, line \u001b[1;32m4\u001b[0m\n\u001b[1;33m    for content in contents:\u001b[0m\n\u001b[1;37m                          ^\u001b[0m\n\u001b[1;31mSyntaxError\u001b[0m\u001b[1;31m:\u001b[0m invalid character in identifier\n"
     ]
    }
   ],
   "source": [
    "import csv\n",
    "with open(\"xyz.csv\") as file:\n",
    "    contents = csv.reader(file)\n",
    "    for content in contents:\n",
    "        print(content)\n",
    "        '''for value in rowe:\n",
    "            print(value)\n",
    "            '''\n",
    "\n"
   ]
  },
  {
   "cell_type": "code",
   "execution_count": 40,
   "metadata": {},
   "outputs": [
    {
     "name": "stdout",
     "output_type": "stream",
     "text": [
      "['This is my first line', '\\nThis is my second line', '\\nABCDEFGHIJKLMNOPQRSTUVWXYZ']\n",
      "This is my first line\n",
      "\n",
      "\n",
      "This is my second line\n",
      "\n",
      "\n",
      "ABCDEFGHIJKLMNOPQRSTUVWXYZ\n",
      "\n"
     ]
    }
   ],
   "source": [
    "import csv\n",
    "with open(\"xyz.csv\") as file:\n",
    "    contents = csv.reader(file)\n",
    "    for row in contents:\n",
    "        print(row)\n",
    "        for value in row:\n",
    "            print(value + \"\\n\")\n"
   ]
  },
  {
   "cell_type": "markdown",
   "metadata": {},
   "source": [
    "### But I don’t like those square brackets and quotes it added to the rows!\n",
    "You can use the join function to format the output \n",
    "SeparatorToDisplay.join(myList)"
   ]
  },
  {
   "cell_type": "code",
   "execution_count": 42,
   "metadata": {},
   "outputs": [
    {
     "name": "stdout",
     "output_type": "stream",
     "text": [
      "This is my first line,\n",
      "This is my second line,\n",
      "ABCDEFGHIJKLMNOPQRSTUVWXYZ\n"
     ]
    }
   ],
   "source": [
    "import csv\n",
    "with open(\"xyz.csv\") as file:\n",
    "    contents = csv.reader(file)\n",
    "    for row in contents:\n",
    "        # See the join function\n",
    "        print(','.join(row))\n",
    "        '''for value in row:\n",
    "            print(value + \"\\n\")\n",
    "'''"
   ]
  },
  {
   "cell_type": "markdown",
   "metadata": {},
   "source": [
    "Challenge:\n",
    "Write a program that will print the names and ages of the guests in the guest list file you created in the last module\n",
    "If you didn’t do the last challenge, you can just create a file to read using Notepad that contains names and ages \n"
   ]
  },
  {
   "cell_type": "code",
   "execution_count": 46,
   "metadata": {},
   "outputs": [
    {
     "name": "stdout",
     "output_type": "stream",
     "text": [
      "Susan,32\n",
      "\n",
      "Mike,33\n",
      "\n",
      "Christopher,80\n",
      "\n",
      "Bil Gates,100\n",
      "\n"
     ]
    }
   ],
   "source": [
    "import csv\n",
    "with open(\"GuestList\",\"w+\") as GuestListhandler:\n",
    "    filewriter = csv.writer(GuestListhandler)\n",
    "    filewriter.writerow(['Susan',32])\n",
    "    filewriter.writerow([\"Mike\",33])\n",
    "    filewriter.writerow([\"Christopher\",80])\n",
    "    filewriter.writerow([\"Bil Gates\", 100])\n",
    "    \n",
    "with open(\"GuestList\",\"r\") as readGuestHandler:\n",
    "    readGuestFile = csv.reader(readGuestHandler) # it returns list\n",
    "    \n",
    "    for content in readGuestFile:\n",
    "        #Note down this join formating\n",
    "        print(','.join(content))\n",
    "    \n",
    "        "
   ]
  },
  {
   "cell_type": "code",
   "execution_count": 55,
   "metadata": {},
   "outputs": [
    {
     "name": "stdout",
     "output_type": "stream",
     "text": [
      "Susan,32\n",
      "\n",
      "Mike,33\n",
      "\n",
      "Christopher,80\n",
      "\n",
      "Bil Gates,100\n",
      "\n"
     ]
    }
   ],
   "source": [
    "import csv\n",
    "\n",
    "with open(\"GuestList\",\"r\") as readGuestHandler:\n",
    "     for content in readGuestHandler:\n",
    "            line = content.rstrip()\n",
    "            #Note down this join formating\n",
    "            print(line)\n",
    "           # print(','.join(line))"
   ]
  },
  {
   "cell_type": "markdown",
   "metadata": {},
   "source": [
    "# Write CSV files with csv.DictWriter()\n",
    "The objects of csv.DictWriter() class can be used to write to a CSV file from a Python dictionary.\n",
    "\n",
    "The minimal syntax of the csv.DictWriter() class is:\n",
    "\n",
    "csv.DictWriter(file, fieldnames)\n",
    "file - CSV file where we want to write to\n",
    "fieldnames - a list object which should contain the column headers specifying the order in which data should be written in the CSV file"
   ]
  },
  {
   "cell_type": "code",
   "execution_count": 56,
   "metadata": {},
   "outputs": [],
   "source": [
    "import csv\n",
    "\n",
    "with open('players.csv', 'w', newline='') as file:\n",
    "    fieldnames_anam = ['player_name', 'fide_rating']\n",
    "    writer = csv.DictWriter(file, fieldnames=fieldnames_anam)\n",
    "\n",
    "    writer.writeheader()\n",
    "    writer.writerow({'player_name': 'Magnus Carlsen', 'fide_rating': 2870})\n",
    "    writer.writerow({'player_name': 'Fabiano Caruana', 'fide_rating': 2822})\n",
    "    writer.writerow({'player_name': 'Ding Liren', 'fide_rating': 2801})"
   ]
  },
  {
   "cell_type": "markdown",
   "metadata": {},
   "source": [
    " Write a program that prompts for a file name, then opens that file and reads through the file, looking for lines of the form:\n",
    "X-DSPAM-Confidence:    0.8475\n",
    "Count these lines and extract the floating point values from each of the lines and compute the average of those values and produce an output as shown below. Do not use the sum() function or a variable named sum in your solution.\n",
    "You can download the sample data at http://www.py4e.com/code3/mbox-short.txt when you are testing below enter mbox-short.txt as the file name."
   ]
  },
  {
   "cell_type": "code",
   "execution_count": 59,
   "metadata": {},
   "outputs": [
    {
     "name": "stdout",
     "output_type": "stream",
     "text": [
      "Enter file name: xyz.csv\n",
      "Average spam confidence: 0.7507185185185187\n"
     ]
    }
   ],
   "source": [
    "# Use the file name mbox-short.txt as the file name\n",
    "fname = input(\"Enter file name: \")\n",
    "fh = open(fname)\n",
    "count = 0\n",
    "total = 0\n",
    "for line in fh:\n",
    "    if not line.startswith(\"X-DSPAM-Confidence:\") : continue\n",
    "    t=line.find(\"0\")\n",
    "    number= float(line[t:])\n",
    "    count = count + 1\n",
    "    total = total + number\n",
    "\n",
    "average = total/count\n",
    "print(\"Average spam confidence:\",average)"
   ]
  },
  {
   "cell_type": "code",
   "execution_count": 62,
   "metadata": {},
   "outputs": [
    {
     "name": "stdout",
     "output_type": "stream",
     "text": [
      "Enter file name: xyz.csv\n",
      "Average spam confidence: 0.7507185185185187\n"
     ]
    }
   ],
   "source": [
    "# Way2\n",
    "fname = input(\"Enter file name: \")\n",
    "fh = open(fname)\n",
    "count=0\n",
    "total=0\n",
    "string=\"X-DSPAM-Confidence:\"\n",
    "for line in fh:\n",
    "    if not line.startswith(string) :\n",
    "        continue\n",
    "    else:\n",
    "        count=count+1\n",
    "        num=float(line[len(string)+1:])\n",
    "        total=total+num\n",
    "\n",
    "print(\"Average spam confidence:\",float(total/count))"
   ]
  },
  {
   "cell_type": "code",
   "execution_count": 66,
   "metadata": {},
   "outputs": [
    {
     "name": "stdout",
     "output_type": "stream",
     "text": [
      "uct\n"
     ]
    }
   ],
   "source": [
    "x = 'From marquard@uct.ac.za'\n",
    "print(x[14:17])"
   ]
  },
  {
   "cell_type": "code",
   "execution_count": 67,
   "metadata": {},
   "outputs": [
    {
     "name": "stdout",
     "output_type": "stream",
     "text": [
      "42\n"
     ]
    }
   ],
   "source": [
    "print(len('banana')*7)"
   ]
  },
  {
   "cell_type": "code",
   "execution_count": 69,
   "metadata": {},
   "outputs": [
    {
     "name": "stdout",
     "output_type": "stream",
     "text": [
      "HELLO BOB\n"
     ]
    }
   ],
   "source": [
    "greet = 'Hello Bob'\n",
    "print(greet.upper())"
   ]
  },
  {
   "cell_type": "code",
   "execution_count": 70,
   "metadata": {},
   "outputs": [
    {
     "name": "stdout",
     "output_type": "stream",
     "text": [
      ".ma\n"
     ]
    }
   ],
   "source": [
    "data = 'From stephen.marquard@uct.ac.za Sat Jan  5 09:14:16 2008'\n",
    "pos = data.find('.')\n",
    "print(data[pos:pos+3])"
   ]
  },
  {
   "cell_type": "code",
   "execution_count": 78,
   "metadata": {},
   "outputs": [
    {
     "name": "stdout",
     "output_type": "stream",
     "text": [
      "Would you like express shipping?Yes\n",
      "That will be an extra $10\n",
      "have a nice day\n"
     ]
    }
   ],
   "source": [
    "answer=input(\"Would you like express shipping?\")\n",
    "if answer.lower() == \"yes\":\n",
    "    print(\"That will be an extra $10\")\n",
    "    print(\"have a nice day\")"
   ]
  },
  {
   "cell_type": "code",
   "execution_count": 79,
   "metadata": {},
   "outputs": [
    {
     "name": "stdout",
     "output_type": "stream",
     "text": [
      "How much would you like to deposit?50\n"
     ]
    },
    {
     "ename": "NameError",
     "evalue": "name 'freeToaster' is not defined",
     "output_type": "error",
     "traceback": [
      "\u001b[1;31m---------------------------------------------------------------------------\u001b[0m",
      "\u001b[1;31mNameError\u001b[0m                                 Traceback (most recent call last)",
      "\u001b[1;32m<ipython-input-79-d888d18594ac>\u001b[0m in \u001b[0;36m<module>\u001b[1;34m\u001b[0m\n\u001b[0;32m      2\u001b[0m \u001b[1;32mif\u001b[0m \u001b[0mfloat\u001b[0m\u001b[1;33m(\u001b[0m\u001b[0mdeposit\u001b[0m\u001b[1;33m)\u001b[0m \u001b[1;33m>\u001b[0m \u001b[1;36m100\u001b[0m\u001b[1;33m:\u001b[0m\u001b[1;33m\u001b[0m\u001b[1;33m\u001b[0m\u001b[0m\n\u001b[0;32m      3\u001b[0m     \u001b[0mfreeToaster\u001b[0m \u001b[1;33m=\u001b[0m \u001b[1;32mTrue\u001b[0m\u001b[1;33m\u001b[0m\u001b[1;33m\u001b[0m\u001b[0m\n\u001b[1;32m----> 4\u001b[1;33m \u001b[1;32mif\u001b[0m \u001b[0mfreeToaster\u001b[0m\u001b[1;33m:\u001b[0m\u001b[1;33m\u001b[0m\u001b[1;33m\u001b[0m\u001b[0m\n\u001b[0m\u001b[0;32m      5\u001b[0m     \u001b[0mprint\u001b[0m\u001b[1;33m(\u001b[0m\u001b[1;34m\"enjoy your toaster\"\u001b[0m\u001b[1;33m)\u001b[0m\u001b[1;33m\u001b[0m\u001b[1;33m\u001b[0m\u001b[0m\n",
      "\u001b[1;31mNameError\u001b[0m: name 'freeToaster' is not defined"
     ]
    }
   ],
   "source": [
    "deposit = input(\"How much would you like to deposit?\")\n",
    "if float(deposit) > 100:\n",
    "    freeToaster = True\n",
    "if freeToaster:\n",
    "    print(\"enjoy your toaster\")"
   ]
  },
  {
   "cell_type": "markdown",
   "metadata": {},
   "source": [
    "text = \"X-DSPAM-Confidence:    0.8475\";\n",
    "Write code using find() and string slicing to extract the number at the end of the line below. Convert the extracted value to a floating point number and print it out."
   ]
  },
  {
   "cell_type": "code",
   "execution_count": null,
   "metadata": {},
   "outputs": [],
   "source": []
  },
  {
   "cell_type": "code",
   "execution_count": 94,
   "metadata": {},
   "outputs": [],
   "source": [
    "width = 20 \n",
    "height = 5\n",
    "\n",
    "area = width * height\n",
    "\n",
    "perimeter = 2 * width + 2 * height\n"
   ]
  },
  {
   "cell_type": "markdown",
   "metadata": {},
   "source": [
    "Sometimes commands are too long to fit on a single line\n",
    "You can use a “\\” to indicate a command continues on the next line\n",
    "\n"
   ]
  },
  {
   "cell_type": "code",
   "execution_count": 97,
   "metadata": {},
   "outputs": [
    {
     "name": "stdout",
     "output_type": "stream",
     "text": [
      "27\n"
     ]
    }
   ],
   "source": [
    "total  = 5 + 6 + 8 \\\n",
    "+ 6 + 2\n",
    "print(total)"
   ]
  },
  {
   "cell_type": "markdown",
   "metadata": {},
   "source": [
    "Challeng:\n",
    "    Have the user enter the cost of the loan, the interest rate, and the number of years for the loan\n",
    "Calculate monthly payments with the following formula\n",
    "M = L[i(1+i)n] / [(1+i)n-1]\n",
    "M = monthly payment\n",
    "L = Loan amount \n",
    "i = interest rate (for an interest rate of 5%, i = 0.05)\n"
   ]
  },
  {
   "cell_type": "code",
   "execution_count": 100,
   "metadata": {},
   "outputs": [
    {
     "name": "stdout",
     "output_type": "stream",
     "text": [
      "49\n"
     ]
    }
   ],
   "source": [
    "scores = [78, 85, 62, 49, 98]\n",
    "#Print the fourth score \n",
    "print(scores[3])\n"
   ]
  },
  {
   "cell_type": "code",
   "execution_count": 102,
   "metadata": {},
   "outputs": [
    {
     "name": "stdout",
     "output_type": "stream",
     "text": [
      "b\n",
      "d\n",
      "['b', 'c', 'd']\n"
     ]
    }
   ],
   "source": [
    "\n",
    "guests = ['a','b','c','d']\n",
    "\n",
    "guests.remove('a') \n",
    "\n",
    "print(guests[0]) \n",
    "print(guests[-1])\n",
    "print(guests)\n",
    "\n"
   ]
  },
  {
   "cell_type": "code",
   "execution_count": 111,
   "metadata": {},
   "outputs": [
    {
     "name": "stdout",
     "output_type": "stream",
     "text": [
      "['1', '1', '2']\n"
     ]
    }
   ],
   "source": [
    "#delete the first item in the list \n",
    "'''del guests[0]\n",
    "print(guests[0])'''\n",
    "guests.append('2')\n",
    "print(guests)"
   ]
  },
  {
   "cell_type": "markdown",
   "metadata": {},
   "source": [
    "### The index() function will search the list and return the index of the position where the value was found\n"
   ]
  },
  {
   "cell_type": "code",
   "execution_count": 113,
   "metadata": {},
   "outputs": [
    {
     "name": "stdout",
     "output_type": "stream",
     "text": [
      "2\n"
     ]
    }
   ],
   "source": [
    "guests = ['Christopher','Susan','Bill','Satya']\n",
    "\n",
    "#this will return the index in the list \n",
    "#where the name Bill is found \n",
    "print(guests.index('Bill'))\n"
   ]
  },
  {
   "cell_type": "code",
   "execution_count": 121,
   "metadata": {},
   "outputs": [
    {
     "name": "stdout",
     "output_type": "stream",
     "text": [
      "Christopher\n",
      "Susan\n",
      "Bill\n",
      "Satya\n"
     ]
    }
   ],
   "source": [
    "guests = ['Christopher','Susan','Bill','Satya']\n",
    "\n",
    "#Create a loop that executes four times \n",
    "#Since we have four values\n",
    "for steps in range(4):\n",
    "\n",
    "# Remember the value of steps goes up by one\n",
    "# Each time the loop executes\n",
    "    print(guests[steps])"
   ]
  },
  {
   "cell_type": "markdown",
   "metadata": {},
   "source": [
    "Use the len() function to find out how many entries are in your list\n"
   ]
  },
  {
   "cell_type": "code",
   "execution_count": 124,
   "metadata": {},
   "outputs": [
    {
     "name": "stdout",
     "output_type": "stream",
     "text": [
      "Christopher\n",
      "Susan\n",
      "Bill\n",
      "Satya\n"
     ]
    }
   ],
   "source": [
    "guests = ['Christopher','Susan','Bill','Satya'] \n",
    "\n",
    "#Find out how many entries are in the list \n",
    "nbrEntries = len(guests) \n",
    "\n",
    "#Create a loop that executes once for each entry \n",
    "\n",
    "for steps in range(nbrEntries):\n",
    "    print(guests[steps])"
   ]
  },
  {
   "cell_type": "code",
   "execution_count": 130,
   "metadata": {},
   "outputs": [
    {
     "name": "stdout",
     "output_type": "stream",
     "text": [
      "Christopher\n",
      "Susan\n",
      "Bill\n",
      "Satya\n"
     ]
    }
   ],
   "source": [
    "# way2: You can just tell the for loop to go through your list!\n",
    "guests=['Christopher','Susan','Bill','Satya']\n",
    "\n",
    "#specify the name of your list and a variable name\n",
    "#to hold each entry as you go through the loop \n",
    "for guest in guests:\n",
    "\n",
    "#the variable guest will contain the values as we go through the loop\n",
    "    print(guest)\n"
   ]
  },
  {
   "cell_type": "code",
   "execution_count": 131,
   "metadata": {},
   "outputs": [
    {
     "name": "stdout",
     "output_type": "stream",
     "text": [
      "Bill\n",
      "Christopher\n",
      "Satya\n",
      "Susan\n"
     ]
    }
   ],
   "source": [
    "# Sort your list\n",
    "guests=['Christopher','Susan','Bill','Satya']\n",
    "\n",
    "guests.sort()\n",
    "\n",
    "for guest in guests:\n",
    "    print(guest)"
   ]
  },
  {
   "cell_type": "markdown",
   "metadata": {},
   "source": [
    "Challenge:\n",
    "    Ask the user to enter the names of everyone attending a party\n",
    "Then return a list of the party guests in alphabetical order\n",
    "This will require pulling together everything we have learned so far, so let’s walk through the thought process of idea to code\n"
   ]
  },
  {
   "cell_type": "code",
   "execution_count": null,
   "metadata": {},
   "outputs": [],
   "source": [
    "cont = True\n",
    "count = 0\n",
    "partyAttendies = []\n",
    "print(\"Enter the names of everyone attending a party and type 'done' when complete\")\n",
    "while cont:\n",
    "    user  = input(f\"Enter the names of {count} person.\")\n",
    "    if user == 'done':\n",
    "        print(f\"These are party attendies list: {partyAttendies}\")\n",
    "        cont = False\n",
    "    else:\n",
    "        partyAttendies.append(user)\n",
    "        count = count + 1\n",
    "\n"
   ]
  },
  {
   "cell_type": "code",
   "execution_count": 2,
   "metadata": {},
   "outputs": [
    {
     "name": "stdout",
     "output_type": "stream",
     "text": [
      "hello world\n",
      "HELLO WORLD\n",
      "hELLO WORLD\n",
      "6\n",
      "2\n",
      "Hello world\n",
      "Hi world\n"
     ]
    }
   ],
   "source": [
    "#Variables also allow you to manipulate the contents of the variable\n",
    "message='Hello world' \n",
    "print(message.lower()) \n",
    "print(message.upper()) \n",
    "print(message.swapcase())\n",
    "print(message.find('world')) \n",
    "print(message.count('o'))\n",
    "print(message.capitalize()) \n",
    "print(message.replace('Hello','Hi'))\n",
    "\n"
   ]
  },
  {
   "cell_type": "code",
   "execution_count": 11,
   "metadata": {},
   "outputs": [],
   "source": [
    "import turtle\n",
    "counter = 0\n",
    "my_turtle = turtle.Turtle()\n",
    "while counter < 4:\n",
    "    turtle.forward(100)\n",
    "    turtle.right(90)\n",
    "    counter = counter+1\n"
   ]
  },
  {
   "cell_type": "markdown",
   "metadata": {},
   "source": [
    "# Gratis Exam"
   ]
  },
  {
   "cell_type": "markdown",
   "metadata": {},
   "source": [
    "QUESTION 1\n",
    "The ABC company has hired you as an intern on the coding team that creates e-commerce applications.\n",
    "You must write a script that asks the user for a value. The value must be used as a whole number in a calculation, even if the user enters a decimal value.\n",
    "You need to write the code to meet the requirements.\n",
    "Which code segment should you use?"
   ]
  },
  {
   "cell_type": "code",
   "execution_count": 5,
   "metadata": {},
   "outputs": [
    {
     "name": "stdout",
     "output_type": "stream",
     "text": [
      "How many items would you like?5.4\n"
     ]
    }
   ],
   "source": [
    "totalItems = str(input(\"How many items would you like?\"))\n",
    "           "
   ]
  },
  {
   "cell_type": "code",
   "execution_count": 11,
   "metadata": {},
   "outputs": [
    {
     "name": "stdout",
     "output_type": "stream",
     "text": [
      "202020\n"
     ]
    },
    {
     "data": {
      "text/plain": [
       "str"
      ]
     },
     "execution_count": 11,
     "metadata": {},
     "output_type": "execute_result"
    }
   ],
   "source": [
    "x1 = \"20\"\n",
    "y1 = 3\n",
    "a = x1 * y1\n",
    "print(a)\n",
    "type(a)"
   ]
  },
  {
   "cell_type": "code",
   "execution_count": 13,
   "metadata": {},
   "outputs": [
    {
     "name": "stdout",
     "output_type": "stream",
     "text": [
      "1.5\n"
     ]
    },
    {
     "data": {
      "text/plain": [
       "float"
      ]
     },
     "execution_count": 13,
     "metadata": {},
     "output_type": "execute_result"
    }
   ],
   "source": [
    "x2 = 6\n",
    "y2 = 4\n",
    "b = x2 / y2\n",
    "print(b)\n",
    "type(b)"
   ]
  },
  {
   "cell_type": "code",
   "execution_count": 14,
   "metadata": {},
   "outputs": [
    {
     "name": "stdout",
     "output_type": "stream",
     "text": [
      "2.5\n"
     ]
    },
    {
     "data": {
      "text/plain": [
       "float"
      ]
     },
     "execution_count": 14,
     "metadata": {},
     "output_type": "execute_result"
    }
   ],
   "source": [
    "x3 = 2.5\n",
    "y3 = 1\n",
    "c = x3 / y3\n",
    "print(c)\n",
    "type(c)"
   ]
  },
  {
   "cell_type": "markdown",
   "metadata": {},
   "source": [
    "You are creating a Python program that shows a congratulation message to employees on their service anniversary.\n",
    "You need to calculate the number of years of service and print a congratulatory message.\n",
    "You have written the following code. Line numbers are included for reference only"
   ]
  },
  {
   "cell_type": "code",
   "execution_count": 3,
   "metadata": {},
   "outputs": [
    {
     "name": "stdout",
     "output_type": "stream",
     "text": [
      "How old were you on your start date?24\n",
      "how old are you today30\n",
      "congratulations on6 years of service!\n"
     ]
    }
   ],
   "source": [
    "start = input(\"How old were you on your start date?\")\n",
    "end = input(\"how old are you today\")\n",
    "print(\"congratulations on \"+str(int(end)-int(start))+\" years of service!\")\n"
   ]
  },
  {
   "cell_type": "code",
   "execution_count": 5,
   "metadata": {},
   "outputs": [
    {
     "name": "stdout",
     "output_type": "stream",
     "text": [
      "How old were you on your start date?5\n",
      "how old are you today20\n"
     ]
    },
    {
     "ename": "TypeError",
     "evalue": "can only concatenate str (not \"int\") to str",
     "output_type": "error",
     "traceback": [
      "\u001b[1;31m---------------------------------------------------------------------------\u001b[0m",
      "\u001b[1;31mTypeError\u001b[0m                                 Traceback (most recent call last)",
      "\u001b[1;32m<ipython-input-5-4ab3ab56e792>\u001b[0m in \u001b[0;36m<module>\u001b[1;34m\u001b[0m\n\u001b[0;32m      1\u001b[0m \u001b[0mstart\u001b[0m \u001b[1;33m=\u001b[0m \u001b[0minput\u001b[0m\u001b[1;33m(\u001b[0m\u001b[1;34m\"How old were you on your start date?\"\u001b[0m\u001b[1;33m)\u001b[0m\u001b[1;33m\u001b[0m\u001b[1;33m\u001b[0m\u001b[0m\n\u001b[0;32m      2\u001b[0m \u001b[0mend\u001b[0m \u001b[1;33m=\u001b[0m \u001b[0minput\u001b[0m\u001b[1;33m(\u001b[0m\u001b[1;34m\"how old are you today\"\u001b[0m\u001b[1;33m)\u001b[0m\u001b[1;33m\u001b[0m\u001b[1;33m\u001b[0m\u001b[0m\n\u001b[1;32m----> 3\u001b[1;33m \u001b[0mprint\u001b[0m\u001b[1;33m(\u001b[0m\u001b[1;34m\"congratulations on \"\u001b[0m\u001b[1;33m+\u001b[0m\u001b[1;33m(\u001b[0m\u001b[0mint\u001b[0m\u001b[1;33m(\u001b[0m\u001b[0mend\u001b[0m\u001b[1;33m)\u001b[0m \u001b[1;33m-\u001b[0m \u001b[0mint\u001b[0m\u001b[1;33m(\u001b[0m\u001b[0mstart\u001b[0m\u001b[1;33m)\u001b[0m\u001b[1;33m)\u001b[0m\u001b[1;33m+\u001b[0m\u001b[1;34m\" years of service!\"\u001b[0m\u001b[1;33m)\u001b[0m\u001b[1;33m\u001b[0m\u001b[1;33m\u001b[0m\u001b[0m\n\u001b[0m",
      "\u001b[1;31mTypeError\u001b[0m: can only concatenate str (not \"int\") to str"
     ]
    }
   ],
   "source": [
    "start = input(\"How old were you on your start date?\")\n",
    "end = input(\"how old are you today\")\n",
    "print(\"congratulations on \"+(int(end) - int(start))+\" years of service!\")\n"
   ]
  },
  {
   "cell_type": "markdown",
   "metadata": {},
   "source": [
    "You are writing a Python program that evaluates an arithmetic formula.\n",
    "The formula is described as b equals a multiplied by negative one, then raised to the second power, where a is the value that will be input and b is the result.\n",
    "You create the following code segment. Line numbers are included for reference only."
   ]
  },
  {
   "cell_type": "code",
   "execution_count": 9,
   "metadata": {},
   "outputs": [
    {
     "name": "stdout",
     "output_type": "stream",
     "text": [
      "Enter a number for the equation: 2\n",
      "4\n"
     ]
    }
   ],
   "source": [
    "a = eval(input(\"Enter a number for the equation: \"))\n",
    "b = (-a)**2\n",
    "print(b)\n"
   ]
  },
  {
   "cell_type": "markdown",
   "metadata": {},
   "source": [
    "In the case of eval, it returned the evaluated expression 20 in the form of an integer given the string as input. 10 + 10 is an expression that returns 20 as a result.\n",
    "eval = eval(input(\"Enter any number of your choice\"))\n",
    "print(eval)\n",
    "print(type(eval))\n",
    "--------------------------------------------------------------------\n",
    "Enter any number of your choice: 10 + 10 \n",
    "20 \n",
    "<class 'int'>"
   ]
  },
  {
   "cell_type": "code",
   "execution_count": 10,
   "metadata": {},
   "outputs": [
    {
     "data": {
      "text/plain": [
       "15"
      ]
     },
     "execution_count": 10,
     "metadata": {},
     "output_type": "execute_result"
    }
   ],
   "source": [
    "(3*(1+2)**2 - (2**2)*3)"
   ]
  },
  {
   "cell_type": "code",
   "execution_count": 36,
   "metadata": {},
   "outputs": [],
   "source": [
    "import csv\n",
    "with open(\"mtasamplefile.csv\",\"w+\", newline=\"\") as file:\n",
    "\n",
    "    data_handler = csv.writer(file)\n",
    "        \n",
    "    listName = [[\"cust1\"],[\"cust2\"],[\"cust3\"],[\"cust4\"],[\"emp1\"],[\"emp2\"], [\"emp3\"],[\"emp4\"],[\"emp5\"]]\n",
    "     \n",
    "    for name in listName:\n",
    "        \n",
    "        #Notedown the method writerow\n",
    "       # print(name)\n",
    "        data_handler.writerow(name)\n",
    "   \n",
    "  "
   ]
  },
  {
   "cell_type": "code",
   "execution_count": 35,
   "metadata": {},
   "outputs": [],
   "source": [
    "import csv\n",
    "with open(\"mtasamplefile.csv\",\"w+\", newline=\"\") as file:\n",
    "\n",
    "    data_handler = csv.writer(file)\n",
    "        \n",
    "    listName = [\"cust1\",\"cust2\",\"cust3\"]\n",
    "     \n",
    "    for name in listName:\n",
    "        \n",
    "        #Notedown the method writerow\n",
    "       # print(name)\n",
    "        data_handler.writerow(name)"
   ]
  },
  {
   "cell_type": "markdown",
   "metadata": {},
   "source": [
    "You develop a Python application for your company.\n",
    "A list named employees contains 200 employee names, the last five being company management. You need to slice the list to display all employees excluding"
   ]
  },
  {
   "cell_type": "code",
   "execution_count": 42,
   "metadata": {},
   "outputs": [
    {
     "data": {
      "text/plain": [
       "['cust1', 'cust2', 'cust3', 'cust4', 'cust5', 'cust6']"
      ]
     },
     "execution_count": 42,
     "metadata": {},
     "output_type": "execute_result"
    }
   ],
   "source": [
    "listName = [\"cust1\",\"cust2\",\"cust3\",\"cust4\",\"cust5\",\"cust6\",\"emp1\",\"emp2\",\"emp3\",\"emp4\",\"emp5\"]\n",
    "     \n",
    "listName[:-5]"
   ]
  },
  {
   "cell_type": "markdown",
   "metadata": {},
   "source": [
    "You are creating a function that manipulates a number. The function has the following requirements:\n",
    "A float is passed into the function\n",
    "The function must take the absolute value of the float\n",
    "Any decimal points after the integer must be removed\n",
    "    "
   ]
  },
  {
   "cell_type": "code",
   "execution_count": 43,
   "metadata": {},
   "outputs": [
    {
     "name": "stdout",
     "output_type": "stream",
     "text": [
      "5\n"
     ]
    }
   ],
   "source": [
    "import math\n",
    "def ABC(floatNumber):\n",
    "    value = math.floor(math.fabs(floatNumber))\n",
    "    print(value)\n",
    "    \n",
    "ABC(-5.36)\n",
    "    \n",
    "    \n",
    "    "
   ]
  },
  {
   "cell_type": "markdown",
   "metadata": {},
   "source": [
    "You are writing an application that uses the sqrt function. The program must reference the function using the name squareRoot. \n",
    "\n",
    "You need to import the function.\n",
    "Which code segment should you use?"
   ]
  },
  {
   "cell_type": "code",
   "execution_count": 47,
   "metadata": {},
   "outputs": [
    {
     "data": {
      "text/plain": [
       "4.0"
      ]
     },
     "execution_count": 47,
     "metadata": {},
     "output_type": "execute_result"
    }
   ],
   "source": [
    "from math import sqrt as squareRoot\n",
    "\n",
    "squareRoot(16)"
   ]
  },
  {
   "cell_type": "markdown",
   "metadata": {},
   "source": [
    "You are writing code that generates a random integer with a minimum value of 5 and a maximum value of 11"
   ]
  },
  {
   "cell_type": "code",
   "execution_count": 58,
   "metadata": {},
   "outputs": [
    {
     "data": {
      "text/plain": [
       "6"
      ]
     },
     "execution_count": 58,
     "metadata": {},
     "output_type": "execute_result"
    }
   ],
   "source": [
    "import random\n",
    "\n",
    "\n",
    "random.randint(5, 11) # both 5 and 11 are inclusive , (start, end)\n",
    "random.randrange(5,12,1) # 5 is inclusive but 12 is exclusive. (start, end, step)"
   ]
  },
  {
   "cell_type": "markdown",
   "metadata": {},
   "source": [
    "### You are writing a function that works with OS files. you will give desktop path of file. You need to ensure that the function returns None if the file does not exist. If the file does exist, the function must return the first line. "
   ]
  },
  {
   "cell_type": "code",
   "execution_count": 96,
   "metadata": {},
   "outputs": [],
   "source": [
    "import os\n",
    "def get_file_line(filename, mode):\n",
    "    with open(filename, 'r') as file:\n",
    "        if os.path.isfile(filename):\n",
    "            return file.readline()\n",
    "        else:\n",
    "            return None"
   ]
  },
  {
   "cell_type": "code",
   "execution_count": 99,
   "metadata": {},
   "outputs": [
    {
     "name": "stdout",
     "output_type": "stream",
     "text": [
      "From stephen.marquard@uct.ac.za Sat Jan  5 09:14:16 2008\n",
      "\n"
     ]
    }
   ],
   "source": [
    "var = get_file_line(\"desktop/sampledatafile.txt\",'r')\n",
    "print(var)"
   ]
  },
  {
   "cell_type": "code",
   "execution_count": null,
   "metadata": {},
   "outputs": [],
   "source": [
    "def MyFunction(FileName):\n",
    "    try:\n",
    "        with open(\"filename2.txt\",\"r\") as fileread:\n",
    "            content2 = fileread.read()\n",
    "            print(content2)\n",
    "    except FileNotFoundError:\n",
    "        #print(\"Sorry this file does not exist..\")\n",
    "        return None"
   ]
  },
  {
   "cell_type": "code",
   "execution_count": null,
   "metadata": {},
   "outputs": [],
   "source": [
    "var = MyFunction(\"HelloFile\")\n",
    "print(var)"
   ]
  },
  {
   "cell_type": "markdown",
   "metadata": {},
   "source": [
    "# Task:\n",
    "You are writing a Python program to automate inventory. Your first task is to read a file of inventory transactions. The file contains sales from the previous day,\n",
    "including the item id, price, and quantity.\n",
    "The following shows a sample of data from the file:\n",
    "\n",
    "10,200,5\n",
    "20,100,1\n",
    "\n",
    "The code must meet the following requirements:\n",
    "Each line of the file must be read and printed\n",
    "If a blank line is encountered, it must be ignored\n",
    "When all lines have been read, the file must be closed\n",
    "You create the following code. Line numbers are included for reference only"
   ]
  },
  {
   "cell_type": "code",
   "execution_count": null,
   "metadata": {},
   "outputs": [],
   "source": [
    "inventory = open(\"mtasamplefile.csv\",'r')\n",
    "eof = False\n",
    "while eof == False:\n",
    "    line = inventory.readline()\n",
    "    if line != '\\n':\n",
    "        if line != \"\":\n",
    "            print(line)\n",
    "        else:\n",
    "            print(\"End of file\")\n",
    "            eof = True\n",
    "            inventory.close()"
   ]
  },
  {
   "cell_type": "code",
   "execution_count": 1,
   "metadata": {},
   "outputs": [
    {
     "name": "stdout",
     "output_type": "stream",
     "text": [
      "cust1\n",
      "\n",
      "cust2\n",
      "\n",
      "cust3\n",
      "\n",
      "cust4\n",
      "\n",
      "emp1\n",
      "\n",
      "emp2\n",
      "\n",
      "emp3\n",
      "\n",
      "emp4\n",
      "\n",
      "emp5\n",
      "\n",
      "End of file\n"
     ]
    }
   ],
   "source": [
    "inventory = open(\"mtasamplefile.csv\",'r')\n",
    "eof = False\n",
    "while eof == False:\n",
    "    line = inventory.readline()\n",
    "    if line != '\\n':\n",
    "        if line != \"\":\n",
    "            print(line)\n",
    "        else:\n",
    "            print(\"End of file\")\n",
    "            eof = True\n",
    "            inventory.close()"
   ]
  },
  {
   "cell_type": "markdown",
   "metadata": {},
   "source": [
    "You develop a Python application for your company.\n",
    "You need to accept input from the user and print that information to the user screen."
   ]
  },
  {
   "cell_type": "code",
   "execution_count": null,
   "metadata": {},
   "outputs": [],
   "source": [
    "print(\"what is ur name\")\n",
    "input(name2)\n",
    "print(name2)\n"
   ]
  },
  {
   "cell_type": "markdown",
   "metadata": {},
   "source": [
    "# Read words in a files \n",
    "check the difference between \n",
    "##for string in line: \n",
    "and \n",
    "##for string in line.split():"
   ]
  },
  {
   "cell_type": "code",
   "execution_count": 3,
   "metadata": {},
   "outputs": [
    {
     "name": "stdout",
     "output_type": "stream",
     "text": [
      "['t', 'h', 'i', 's', ' ', 'i', 's', ' ', 'f', 'i', 'r', 's', 't', ' ', 'e', ' ', 'v', 'a', 'l', 'u', 'e', ' ', 't', 'e', 'x', 't']\n"
     ]
    }
   ],
   "source": [
    "try:\n",
    "    fileHandler = open(\"out.txt\",\"r\")\n",
    "except IOError as err:\n",
    "    print(\"I/O error: {0}\".format(err))\n",
    "else:\n",
    "    word_list = []\n",
    "\n",
    "    for line in fileHandler:\n",
    "        for string in line:\n",
    "       #for string in line.split():\n",
    "            word_list.append(string)\n",
    "    fileHandlerndler.close()\n",
    "    \n",
    "\n"
   ]
  },
  {
   "cell_type": "code",
   "execution_count": null,
   "metadata": {},
   "outputs": [],
   "source": []
  }
 ],
 "metadata": {
  "kernelspec": {
   "display_name": "Python 3",
   "language": "python",
   "name": "python3"
  },
  "language_info": {
   "codemirror_mode": {
    "name": "ipython",
    "version": 3
   },
   "file_extension": ".py",
   "mimetype": "text/x-python",
   "name": "python",
   "nbconvert_exporter": "python",
   "pygments_lexer": "ipython3",
   "version": "3.7.6"
  }
 },
 "nbformat": 4,
 "nbformat_minor": 4
}
